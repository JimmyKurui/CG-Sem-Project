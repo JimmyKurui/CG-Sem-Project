{
  "cells": [
    {
      "cell_type": "markdown",
      "metadata": {
        "id": "7_wfsJv-vm-X"
      },
      "source": [
        "**Water Use Prediction Model for Nairobi County**\n",
        "\n",
        "This ANN model utilizes data acquired from Nairobi Water and Sewerage Corporation (NWSC), the county's main supplier and distributer of piped water to predict short term water consumption rates in different residential areas"
      ]
    },
    {
      "cell_type": "markdown",
      "metadata": {
        "id": "3up620Tt0qlJ"
      },
      "source": [
        "# Data Preparation"
      ]
    },
    {
      "cell_type": "code",
      "execution_count": null,
      "metadata": {
        "id": "FR-NuKw_fe-9",
        "colab": {
          "base_uri": "https://localhost:8080/"
        },
        "outputId": "6a673e8f-97df-4aac-c16a-1ba399270490"
      },
      "outputs": [
        {
          "output_type": "stream",
          "name": "stdout",
          "text": [
            "Drive already mounted at /content/drive; to attempt to forcibly remount, call drive.mount(\"/content/drive\", force_remount=True).\n"
          ]
        }
      ],
      "source": [
        "from google.colab import drive\n",
        "drive.mount('/content/drive')"
      ]
    },
    {
      "cell_type": "code",
      "execution_count": null,
      "metadata": {
        "colab": {
          "base_uri": "https://localhost:8080/"
        },
        "id": "gPOFVXaKUokD",
        "outputId": "4f184103-39ff-4fc2-b6e9-2ae4eadfd941"
      },
      "outputs": [
        {
          "output_type": "stream",
          "name": "stdout",
          "text": [
            "Looking in indexes: https://pypi.org/simple, https://us-python.pkg.dev/colab-wheels/public/simple/\n",
            "Collecting camelot-py\n",
            "  Downloading camelot_py-0.10.1-py3-none-any.whl (40 kB)\n",
            "\u001b[K     |████████████████████████████████| 40 kB 25 kB/s \n",
            "\u001b[?25hCollecting pdfminer.six>=20200726\n",
            "  Downloading pdfminer.six-20221105-py3-none-any.whl (5.6 MB)\n",
            "\u001b[K     |████████████████████████████████| 5.6 MB 10.6 MB/s \n",
            "\u001b[?25hRequirement already satisfied: click>=6.7 in /usr/local/lib/python3.8/dist-packages (from camelot-py) (7.1.2)\n",
            "Requirement already satisfied: pandas>=0.23.4 in /usr/local/lib/python3.8/dist-packages (from camelot-py) (1.3.5)\n",
            "Requirement already satisfied: chardet>=3.0.4 in /usr/local/lib/python3.8/dist-packages (from camelot-py) (3.0.4)\n",
            "Requirement already satisfied: tabulate>=0.8.9 in /usr/local/lib/python3.8/dist-packages (from camelot-py) (0.8.10)\n",
            "Collecting PyPDF2>=1.26.0\n",
            "  Downloading pypdf2-2.11.2-py3-none-any.whl (220 kB)\n",
            "\u001b[K     |████████████████████████████████| 220 kB 56.7 MB/s \n",
            "\u001b[?25hRequirement already satisfied: numpy>=1.13.3 in /usr/local/lib/python3.8/dist-packages (from camelot-py) (1.21.6)\n",
            "Requirement already satisfied: openpyxl>=2.5.8 in /usr/local/lib/python3.8/dist-packages (from camelot-py) (3.0.10)\n",
            "Requirement already satisfied: et-xmlfile in /usr/local/lib/python3.8/dist-packages (from openpyxl>=2.5.8->camelot-py) (1.1.0)\n",
            "Requirement already satisfied: python-dateutil>=2.7.3 in /usr/local/lib/python3.8/dist-packages (from pandas>=0.23.4->camelot-py) (2.8.2)\n",
            "Requirement already satisfied: pytz>=2017.3 in /usr/local/lib/python3.8/dist-packages (from pandas>=0.23.4->camelot-py) (2022.6)\n",
            "Collecting cryptography>=36.0.0\n",
            "  Downloading cryptography-38.0.4-cp36-abi3-manylinux_2_24_x86_64.whl (4.0 MB)\n",
            "\u001b[K     |████████████████████████████████| 4.0 MB 33.6 MB/s \n",
            "\u001b[?25hRequirement already satisfied: charset-normalizer>=2.0.0 in /usr/local/lib/python3.8/dist-packages (from pdfminer.six>=20200726->camelot-py) (2.1.1)\n",
            "Requirement already satisfied: cffi>=1.12 in /usr/local/lib/python3.8/dist-packages (from cryptography>=36.0.0->pdfminer.six>=20200726->camelot-py) (1.15.1)\n",
            "Requirement already satisfied: pycparser in /usr/local/lib/python3.8/dist-packages (from cffi>=1.12->cryptography>=36.0.0->pdfminer.six>=20200726->camelot-py) (2.21)\n",
            "Requirement already satisfied: typing_extensions>=3.10.0.0 in /usr/local/lib/python3.8/dist-packages (from PyPDF2>=1.26.0->camelot-py) (4.1.1)\n",
            "Requirement already satisfied: six>=1.5 in /usr/local/lib/python3.8/dist-packages (from python-dateutil>=2.7.3->pandas>=0.23.4->camelot-py) (1.15.0)\n",
            "Installing collected packages: cryptography, PyPDF2, pdfminer.six, camelot-py\n",
            "Successfully installed PyPDF2-2.11.2 camelot-py-0.10.1 cryptography-38.0.4 pdfminer.six-20221105\n",
            "Looking in indexes: https://pypi.org/simple, https://us-python.pkg.dev/colab-wheels/public/simple/\n",
            "\u001b[31mERROR: Could not find a version that satisfies the requirement tabulate-py (from versions: none)\u001b[0m\n",
            "\u001b[31mERROR: No matching distribution found for tabulate-py\u001b[0m\n",
            "Looking in indexes: https://pypi.org/simple, https://us-python.pkg.dev/colab-wheels/public/simple/\n",
            "Requirement already satisfied: tabulate in /usr/local/lib/python3.8/dist-packages (0.8.10)\n"
          ]
        }
      ],
      "source": [
        "#Read pdfs and their tables\n",
        "!pip install \"camelot-py\"\n",
        "!pip install \"tabulate-py\"\n",
        "!pip install \"tabulate\""
      ]
    },
    {
      "cell_type": "code",
      "execution_count": null,
      "metadata": {
        "id": "dYnueZiL5ill"
      },
      "outputs": [],
      "source": [
        "import pandas as pd\n",
        "import numpy as py\n",
        "impo rt matplotlib.pyplot as plt\n",
        "\n",
        "import tensorflow as tf\n",
        "from tensorflow import keras\n",
        "\n",
        "import camelot\n",
        "import tabulate\n",
        "\n"
      ]
    },
    {
      "cell_type": "markdown",
      "metadata": {
        "id": "Ai1Kbb6psHtT"
      },
      "source": [
        "## Water Data"
      ]
    },
    {
      "cell_type": "code",
      "execution_count": null,
      "metadata": {
        "colab": {
          "base_uri": "https://localhost:8080/",
          "height": 223
        },
        "id": "TJc5bcwW6r-9",
        "outputId": "42395b04-8141-44bc-a006-6ddcfbb19273"
      },
      "outputs": [
        {
          "output_type": "error",
          "ename": "NameError",
          "evalue": "ignored",
          "traceback": [
            "\u001b[0;31m---------------------------------------------------------------------------\u001b[0m",
            "\u001b[0;31mNameError\u001b[0m                                 Traceback (most recent call last)",
            "\u001b[0;32m<ipython-input-2-40dfc3d92d71>\u001b[0m in \u001b[0;36m<module>\u001b[0;34m\u001b[0m\n\u001b[1;32m      1\u001b[0m \u001b[0;31m# Water Meter Data\u001b[0m\u001b[0;34m\u001b[0m\u001b[0;34m\u001b[0m\u001b[0;34m\u001b[0m\u001b[0m\n\u001b[0;32m----> 2\u001b[0;31m \u001b[0mwater_consumption\u001b[0m \u001b[0;34m=\u001b[0m \u001b[0mpd\u001b[0m\u001b[0;34m.\u001b[0m\u001b[0mread_csv\u001b[0m\u001b[0;34m(\u001b[0m\u001b[0;34m\"/content/drive/MyDrive/Colab Notebooks/IS Project II/water_datasets/water_data_MNyamai.csv\"\u001b[0m\u001b[0;34m)\u001b[0m\u001b[0;34m\u001b[0m\u001b[0;34m\u001b[0m\u001b[0m\n\u001b[0m\u001b[1;32m      3\u001b[0m \u001b[0mwater_consumption\u001b[0m\u001b[0;34m.\u001b[0m\u001b[0mhead\u001b[0m\u001b[0;34m(\u001b[0m\u001b[0;36m5\u001b[0m\u001b[0;34m)\u001b[0m\u001b[0;34m\u001b[0m\u001b[0;34m\u001b[0m\u001b[0m\n",
            "\u001b[0;31mNameError\u001b[0m: name 'pd' is not defined"
          ]
        }
      ],
      "source": [
        "# Water Meter Data \n",
        "water_consumption = pd.read_csv(\"/content/drive/MyDrive/Colab Notebooks/IS Project II/water_datasets/water_data_MNyamai.csv\")\n",
        "water_consumption.head(5)\n"
      ]
    },
    {
      "cell_type": "markdown",
      "metadata": {
        "id": "l8hB9NmuU0u_"
      },
      "source": [
        "## Factors Data"
      ]
    },
    {
      "cell_type": "code",
      "execution_count": null,
      "metadata": {
        "colab": {
          "base_uri": "https://localhost:8080/",
          "height": 246
        },
        "id": "mC5x4Bb2VTtO",
        "outputId": "79b221d8-5389-47eb-cc7c-c41cdcc72adc"
      },
      "outputs": [
        {
          "name": "stderr",
          "output_type": "stream",
          "text": [
            "/usr/local/lib/python3.7/dist-packages/camelot/parsers/stream.py:365: UserWarning: No tables found in table area 1\n",
            "  warnings.warn(f\"No tables found in table area {table_idx + 1}\")\n",
            "/usr/local/lib/python3.7/dist-packages/camelot/parsers/stream.py:365: UserWarning: No tables found in table area 1\n",
            "  warnings.warn(f\"No tables found in table area {table_idx + 1}\")\n"
          ]
        },
        {
          "data": {
            "text/html": [
              "\n",
              "  <div id=\"df-1bad33d5-5c1e-4b8d-88e8-0115f7bb4eca\">\n",
              "    <div class=\"colab-df-container\">\n",
              "      <div>\n",
              "<style scoped>\n",
              "    .dataframe tbody tr th:only-of-type {\n",
              "        vertical-align: middle;\n",
              "    }\n",
              "\n",
              "    .dataframe tbody tr th {\n",
              "        vertical-align: top;\n",
              "    }\n",
              "\n",
              "    .dataframe thead th {\n",
              "        text-align: right;\n",
              "    }\n",
              "</style>\n",
              "<table border=\"1\" class=\"dataframe\">\n",
              "  <thead>\n",
              "    <tr style=\"text-align: right;\">\n",
              "      <th></th>\n",
              "      <th>0</th>\n",
              "    </tr>\n",
              "  </thead>\n",
              "  <tbody>\n",
              "    <tr>\n",
              "      <th>0</th>\n",
              "      <td>COUNTY STATISTICAL</td>\n",
              "    </tr>\n",
              "    <tr>\n",
              "      <th>1</th>\n",
              "      <td>ABSTRACT</td>\n",
              "    </tr>\n",
              "    <tr>\n",
              "      <th>2</th>\n",
              "      <td>NAIROBI CITY COUNTY</td>\n",
              "    </tr>\n",
              "    <tr>\n",
              "      <th>3</th>\n",
              "      <td>2015</td>\n",
              "    </tr>\n",
              "  </tbody>\n",
              "</table>\n",
              "</div>\n",
              "      <button class=\"colab-df-convert\" onclick=\"convertToInteractive('df-1bad33d5-5c1e-4b8d-88e8-0115f7bb4eca')\"\n",
              "              title=\"Convert this dataframe to an interactive table.\"\n",
              "              style=\"display:none;\">\n",
              "        \n",
              "  <svg xmlns=\"http://www.w3.org/2000/svg\" height=\"24px\"viewBox=\"0 0 24 24\"\n",
              "       width=\"24px\">\n",
              "    <path d=\"M0 0h24v24H0V0z\" fill=\"none\"/>\n",
              "    <path d=\"M18.56 5.44l.94 2.06.94-2.06 2.06-.94-2.06-.94-.94-2.06-.94 2.06-2.06.94zm-11 1L8.5 8.5l.94-2.06 2.06-.94-2.06-.94L8.5 2.5l-.94 2.06-2.06.94zm10 10l.94 2.06.94-2.06 2.06-.94-2.06-.94-.94-2.06-.94 2.06-2.06.94z\"/><path d=\"M17.41 7.96l-1.37-1.37c-.4-.4-.92-.59-1.43-.59-.52 0-1.04.2-1.43.59L10.3 9.45l-7.72 7.72c-.78.78-.78 2.05 0 2.83L4 21.41c.39.39.9.59 1.41.59.51 0 1.02-.2 1.41-.59l7.78-7.78 2.81-2.81c.8-.78.8-2.07 0-2.86zM5.41 20L4 18.59l7.72-7.72 1.47 1.35L5.41 20z\"/>\n",
              "  </svg>\n",
              "      </button>\n",
              "      \n",
              "  <style>\n",
              "    .colab-df-container {\n",
              "      display:flex;\n",
              "      flex-wrap:wrap;\n",
              "      gap: 12px;\n",
              "    }\n",
              "\n",
              "    .colab-df-convert {\n",
              "      background-color: #E8F0FE;\n",
              "      border: none;\n",
              "      border-radius: 50%;\n",
              "      cursor: pointer;\n",
              "      display: none;\n",
              "      fill: #1967D2;\n",
              "      height: 32px;\n",
              "      padding: 0 0 0 0;\n",
              "      width: 32px;\n",
              "    }\n",
              "\n",
              "    .colab-df-convert:hover {\n",
              "      background-color: #E2EBFA;\n",
              "      box-shadow: 0px 1px 2px rgba(60, 64, 67, 0.3), 0px 1px 3px 1px rgba(60, 64, 67, 0.15);\n",
              "      fill: #174EA6;\n",
              "    }\n",
              "\n",
              "    [theme=dark] .colab-df-convert {\n",
              "      background-color: #3B4455;\n",
              "      fill: #D2E3FC;\n",
              "    }\n",
              "\n",
              "    [theme=dark] .colab-df-convert:hover {\n",
              "      background-color: #434B5C;\n",
              "      box-shadow: 0px 1px 3px 1px rgba(0, 0, 0, 0.15);\n",
              "      filter: drop-shadow(0px 1px 2px rgba(0, 0, 0, 0.3));\n",
              "      fill: #FFFFFF;\n",
              "    }\n",
              "  </style>\n",
              "\n",
              "      <script>\n",
              "        const buttonEl =\n",
              "          document.querySelector('#df-1bad33d5-5c1e-4b8d-88e8-0115f7bb4eca button.colab-df-convert');\n",
              "        buttonEl.style.display =\n",
              "          google.colab.kernel.accessAllowed ? 'block' : 'none';\n",
              "\n",
              "        async function convertToInteractive(key) {\n",
              "          const element = document.querySelector('#df-1bad33d5-5c1e-4b8d-88e8-0115f7bb4eca');\n",
              "          const dataTable =\n",
              "            await google.colab.kernel.invokeFunction('convertToInteractive',\n",
              "                                                     [key], {});\n",
              "          if (!dataTable) return;\n",
              "\n",
              "          const docLinkHtml = 'Like what you see? Visit the ' +\n",
              "            '<a target=\"_blank\" href=https://colab.research.google.com/notebooks/data_table.ipynb>data table notebook</a>'\n",
              "            + ' to learn more about interactive tables.';\n",
              "          element.innerHTML = '';\n",
              "          dataTable['output_type'] = 'display_data';\n",
              "          await google.colab.output.renderOutput(dataTable, element);\n",
              "          const docLink = document.createElement('div');\n",
              "          docLink.innerHTML = docLinkHtml;\n",
              "          element.appendChild(docLink);\n",
              "        }\n",
              "      </script>\n",
              "    </div>\n",
              "  </div>\n",
              "  "
            ],
            "text/plain": [
              "                     0\n",
              "0   COUNTY STATISTICAL\n",
              "1             ABSTRACT\n",
              "2  NAIROBI CITY COUNTY\n",
              "3                 2015"
            ]
          },
          "execution_count": 5,
          "metadata": {},
          "output_type": "execute_result"
        }
      ],
      "source": [
        "# popn_dist_edlevel_2020 = pd.read_excel(\"/content/drive/MyDrive/Colab Notebooks/IS Project II/factors_datasets/distribution-of-population-age-3-years-and-above-by-highest-level-of-education-reached-area-of-.xlsx\")\n",
        "# housing_2019 = camelot.read_pdf(\"/content/drive/MyDrive/Colab Notebooks/IS Project II/factors_datasets/VOLUME-I-KPHC-2019.pdf\", flavor='stream')\n",
        "# popn_dist_2019 = camelot.read_pdf(\"/content/drive/MyDrive/Colab Notebooks/IS Project II/factors_datasets/Population Distribution by Sex, Number of Households, Area and Density by County and District 2019 Census.pdf\", flavor='stream')\n",
        "# popn_dist_2009 = camelot.read_pdf(\"/content/drive/MyDrive/Colab Notebooks/IS Project II/factors_datasets/Population Distribution by Sex, Number of Households, Area and Density by County and District 2009.pdf\", flavor='stream')\n",
        "# nairobi_1969_2009 = camelot.read_pdf(\"/content/drive/MyDrive/Colab Notebooks/IS Project II/factors_datasets/Nairobi 1969 - 2009 KNBS.pdf\", flavor='stream')\n",
        "# education_level_2015 = camelot.read_pdf(\"/content/drive/MyDrive/Colab Notebooks/IS Project II/factors_datasets/Highest Education Level by County and District.pdf\", flavor='stream')\n"
      ]
    },
    {
      "cell_type": "code",
      "execution_count": null,
      "metadata": {
        "colab": {
          "base_uri": "https://localhost:8080/",
          "height": 175
        },
        "id": "sVSqNWeSgSqT",
        "outputId": "12bca74b-a2b4-4a46-e1cd-853d78bcdf7a"
      },
      "outputs": [
        {
          "data": {
            "text/html": [
              "\n",
              "  <div id=\"df-b148dde6-a8b4-4910-ad77-3b9f6e364d2b\">\n",
              "    <div class=\"colab-df-container\">\n",
              "      <div>\n",
              "<style scoped>\n",
              "    .dataframe tbody tr th:only-of-type {\n",
              "        vertical-align: middle;\n",
              "    }\n",
              "\n",
              "    .dataframe tbody tr th {\n",
              "        vertical-align: top;\n",
              "    }\n",
              "\n",
              "    .dataframe thead th {\n",
              "        text-align: right;\n",
              "    }\n",
              "</style>\n",
              "<table border=\"1\" class=\"dataframe\">\n",
              "  <thead>\n",
              "    <tr style=\"text-align: right;\">\n",
              "      <th></th>\n",
              "      <th>0</th>\n",
              "    </tr>\n",
              "  </thead>\n",
              "  <tbody>\n",
              "    <tr>\n",
              "      <th>0</th>\n",
              "      <td>COUNTY STATISTICAL</td>\n",
              "    </tr>\n",
              "    <tr>\n",
              "      <th>1</th>\n",
              "      <td>ABSTRACT</td>\n",
              "    </tr>\n",
              "    <tr>\n",
              "      <th>2</th>\n",
              "      <td>NAIROBI CITY COUNTY</td>\n",
              "    </tr>\n",
              "    <tr>\n",
              "      <th>3</th>\n",
              "      <td>2015</td>\n",
              "    </tr>\n",
              "  </tbody>\n",
              "</table>\n",
              "</div>\n",
              "      <button class=\"colab-df-convert\" onclick=\"convertToInteractive('df-b148dde6-a8b4-4910-ad77-3b9f6e364d2b')\"\n",
              "              title=\"Convert this dataframe to an interactive table.\"\n",
              "              style=\"display:none;\">\n",
              "        \n",
              "  <svg xmlns=\"http://www.w3.org/2000/svg\" height=\"24px\"viewBox=\"0 0 24 24\"\n",
              "       width=\"24px\">\n",
              "    <path d=\"M0 0h24v24H0V0z\" fill=\"none\"/>\n",
              "    <path d=\"M18.56 5.44l.94 2.06.94-2.06 2.06-.94-2.06-.94-.94-2.06-.94 2.06-2.06.94zm-11 1L8.5 8.5l.94-2.06 2.06-.94-2.06-.94L8.5 2.5l-.94 2.06-2.06.94zm10 10l.94 2.06.94-2.06 2.06-.94-2.06-.94-.94-2.06-.94 2.06-2.06.94z\"/><path d=\"M17.41 7.96l-1.37-1.37c-.4-.4-.92-.59-1.43-.59-.52 0-1.04.2-1.43.59L10.3 9.45l-7.72 7.72c-.78.78-.78 2.05 0 2.83L4 21.41c.39.39.9.59 1.41.59.51 0 1.02-.2 1.41-.59l7.78-7.78 2.81-2.81c.8-.78.8-2.07 0-2.86zM5.41 20L4 18.59l7.72-7.72 1.47 1.35L5.41 20z\"/>\n",
              "  </svg>\n",
              "      </button>\n",
              "      \n",
              "  <style>\n",
              "    .colab-df-container {\n",
              "      display:flex;\n",
              "      flex-wrap:wrap;\n",
              "      gap: 12px;\n",
              "    }\n",
              "\n",
              "    .colab-df-convert {\n",
              "      background-color: #E8F0FE;\n",
              "      border: none;\n",
              "      border-radius: 50%;\n",
              "      cursor: pointer;\n",
              "      display: none;\n",
              "      fill: #1967D2;\n",
              "      height: 32px;\n",
              "      padding: 0 0 0 0;\n",
              "      width: 32px;\n",
              "    }\n",
              "\n",
              "    .colab-df-convert:hover {\n",
              "      background-color: #E2EBFA;\n",
              "      box-shadow: 0px 1px 2px rgba(60, 64, 67, 0.3), 0px 1px 3px 1px rgba(60, 64, 67, 0.15);\n",
              "      fill: #174EA6;\n",
              "    }\n",
              "\n",
              "    [theme=dark] .colab-df-convert {\n",
              "      background-color: #3B4455;\n",
              "      fill: #D2E3FC;\n",
              "    }\n",
              "\n",
              "    [theme=dark] .colab-df-convert:hover {\n",
              "      background-color: #434B5C;\n",
              "      box-shadow: 0px 1px 3px 1px rgba(0, 0, 0, 0.15);\n",
              "      filter: drop-shadow(0px 1px 2px rgba(0, 0, 0, 0.3));\n",
              "      fill: #FFFFFF;\n",
              "    }\n",
              "  </style>\n",
              "\n",
              "      <script>\n",
              "        const buttonEl =\n",
              "          document.querySelector('#df-b148dde6-a8b4-4910-ad77-3b9f6e364d2b button.colab-df-convert');\n",
              "        buttonEl.style.display =\n",
              "          google.colab.kernel.accessAllowed ? 'block' : 'none';\n",
              "\n",
              "        async function convertToInteractive(key) {\n",
              "          const element = document.querySelector('#df-b148dde6-a8b4-4910-ad77-3b9f6e364d2b');\n",
              "          const dataTable =\n",
              "            await google.colab.kernel.invokeFunction('convertToInteractive',\n",
              "                                                     [key], {});\n",
              "          if (!dataTable) return;\n",
              "\n",
              "          const docLinkHtml = 'Like what you see? Visit the ' +\n",
              "            '<a target=\"_blank\" href=https://colab.research.google.com/notebooks/data_table.ipynb>data table notebook</a>'\n",
              "            + ' to learn more about interactive tables.';\n",
              "          element.innerHTML = '';\n",
              "          dataTable['output_type'] = 'display_data';\n",
              "          await google.colab.output.renderOutput(dataTable, element);\n",
              "          const docLink = document.createElement('div');\n",
              "          docLink.innerHTML = docLinkHtml;\n",
              "          element.appendChild(docLink);\n",
              "        }\n",
              "      </script>\n",
              "    </div>\n",
              "  </div>\n",
              "  "
            ],
            "text/plain": [
              "                     0\n",
              "0   COUNTY STATISTICAL\n",
              "1             ABSTRACT\n",
              "2  NAIROBI CITY COUNTY\n",
              "3                 2015"
            ]
          },
          "execution_count": 7,
          "metadata": {},
          "output_type": "execute_result"
        }
      ],
      "source": [
        "# nairobi_1969_2009[0].df.head(5)"
      ]
    },
    {
      "cell_type": "markdown",
      "metadata": {
        "id": "Vh5JIrcQ09DJ"
      },
      "source": [
        "# Data Preprocessing & Cleaning"
      ]
    },
    {
      "cell_type": "markdown",
      "metadata": {
        "id": "wEP_s_z4sOOs"
      },
      "source": [
        "## Sorting & Combination"
      ]
    },
    {
      "cell_type": "code",
      "execution_count": null,
      "metadata": {
        "id": "LIbuE0XCXnUN"
      },
      "outputs": [],
      "source": [
        "# -------Education Data--------------\n",
        "\n",
        "eTable_2020 = pd.read_excel(\"/content/drive/MyDrive/Colab Notebooks/IS Project II/factors_datasets/distribution-of-population-age-3-years-and-above-by-highest-level-of-education-reached-area-of-.xlsx\")\n",
        "eTable_2020.head(5)\n",
        "\n",
        "eTable_2014 = camelot.read_pdf('/content/drive/MyDrive/Colab Notebooks/IS Project II/factors_datasets/Population Distribution by Sex, Number of Households, Area and Density by County and District 2009.pdf', flavor='stream')\n",
        "eTable_2014[0].df"
      ]
    },
    {
      "cell_type": "code",
      "execution_count": null,
      "metadata": {
        "id": "LuYdscQ-vj59"
      },
      "outputs": [],
      "source": [
        "# Missing Values"
      ]
    },
    {
      "cell_type": "markdown",
      "metadata": {
        "id": "CfxAZcHEYY4r"
      },
      "source": [
        "**Feature Extraction**\n",
        "To provide most correlating contributory factors from table of features: 6 explanatory factors include\n",
        "\n",
        "\n",
        "*   Education level\n",
        "*   Income level\n",
        "*   Cost of piped water\n",
        "*   Household size\n",
        "*   Household density\n",
        "*   Land use"
      ]
    },
    {
      "cell_type": "markdown",
      "metadata": {
        "id": "osoBupOk6oLk"
      },
      "source": []
    },
    {
      "cell_type": "markdown",
      "metadata": {
        "id": "Xfy_x_6vX0JC"
      },
      "source": [
        "# Training"
      ]
    },
    {
      "cell_type": "code",
      "execution_count": null,
      "metadata": {
        "id": "Cz3crU9WYMVy"
      },
      "outputs": [],
      "source": [
        "import sklearn. "
      ]
    },
    {
      "cell_type": "markdown",
      "metadata": {
        "id": "cprtoxZuYAfr"
      },
      "source": [
        "# Testing"
      ]
    },
    {
      "cell_type": "markdown",
      "metadata": {
        "id": "bweDgav1YEG0"
      },
      "source": [
        "# Comparative Analysis"
      ]
    },
    {
      "cell_type": "markdown",
      "metadata": {
        "id": "crzHg4uVYH-L"
      },
      "source": [
        "# Recommendation"
      ]
    }
  ],
  "metadata": {
    "colab": {
      "provenance": [],
      "mount_file_id": "1xUIJynRTo6lAAj8p9r-u3s-8NzqMiwdJ",
      "authorship_tag": "ABX9TyNHdeQGRX36oIwjI4y6Iuzj"
    },
    "kernelspec": {
      "display_name": "Python 3",
      "name": "python3"
    },
    "language_info": {
      "name": "python"
    }
  },
  "nbformat": 4,
  "nbformat_minor": 0
}